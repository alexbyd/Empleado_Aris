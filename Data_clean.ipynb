{
 "cells": [
  {
   "cell_type": "markdown",
   "id": "a49c189dd563a8e7",
   "metadata": {},
   "source": [
    "# Limpieza del archivo exel con los datos del titanic:\n",
    "\n",
    "- 1) explorar columnas: visualizar las columnas, tipo de dato, si contienen datos nulos, registros mal formados, valores atipicos o sin sentido, valores faltantes\n",
    "\n",
    "- 2) datos desordenados,\n",
    " \n",
    "- 3) eliminar columnas con datos no relevantes\n",
    "\n",
    "\n"
   ]
  },
  {
   "cell_type": "code",
   "id": "2cf5fc2414a4b77e",
   "metadata": {
    "ExecuteTime": {
     "end_time": "2025-01-04T15:40:01.571075Z",
     "start_time": "2025-01-04T15:40:01.367404Z"
    }
   },
   "source": [
    "import pandas as pd\n",
    "import seaborn as sns\n",
    "import numpy as np\n",
    "import re\n",
    "import scipy\n",
    "import matplotlib.pyplot as plt\n",
    "%matplotlib inline\n",
    "\n",
    "# Analizar que librerias necesito y eliminar el resto de importaciones commit [main 8fb097c]\n",
    "\n",
    "dataframe = pd.read_csv('empleado-aris/Titanic.csv')\n",
    "\n",
    "dataframe.head()\n",
    "\n"
   ],
   "outputs": [
    {
     "data": {
      "text/plain": [
       "   PassengerId  Survived  Pclass  \\\n",
       "0            1         0       3   \n",
       "1            2         1       1   \n",
       "2            3         1       3   \n",
       "3            4         1       1   \n",
       "4            5         0       3   \n",
       "\n",
       "                                                Name     Sex   Age  SibSp  \\\n",
       "0                            Braund, Mr. Owen Harris    male  22.0      1   \n",
       "1  Cumings, Mrs. John Bradley (Florence Briggs Th...  female  38.0      1   \n",
       "2                             Heikkinen, Miss. Laina  female  26.0      0   \n",
       "3       Futrelle, Mrs. Jacques Heath (Lily May Peel)  female  35.0      1   \n",
       "4                           Allen, Mr. William Henry    male  35.0      0   \n",
       "\n",
       "   Parch            Ticket     Fare  ... Unnamed: 16 Unnamed: 17  Unnamed: 18  \\\n",
       "0      0         A/5 21171   7.2500  ...         NaN         NaN          NaN   \n",
       "1      0          PC 17599  71.2833  ...         NaN         NaN          NaN   \n",
       "2      0  STON/O2. 3101282   7.9250  ...         NaN         NaN          NaN   \n",
       "3      0            113803  53.1000  ...         NaN         NaN          NaN   \n",
       "4      0            373450   8.0500  ...         NaN         NaN          NaN   \n",
       "\n",
       "   Unnamed: 19  Unnamed: 20  Unnamed: 21  Unnamed: 22  Unnamed: 23  \\\n",
       "0          NaN          NaN          NaN          NaN          NaN   \n",
       "1          NaN          NaN          NaN          NaN          NaN   \n",
       "2          NaN          NaN          NaN          NaN          NaN   \n",
       "3          NaN          NaN          NaN          NaN          NaN   \n",
       "4          NaN          NaN          NaN          NaN          NaN   \n",
       "\n",
       "   Unnamed: 24  Unnamed: 25  \n",
       "0          NaN          NaN  \n",
       "1          NaN          NaN  \n",
       "2          NaN          NaN  \n",
       "3          NaN          NaN  \n",
       "4          NaN           We  \n",
       "\n",
       "[5 rows x 26 columns]"
      ],
      "text/html": [
       "<div>\n",
       "<style scoped>\n",
       "    .dataframe tbody tr th:only-of-type {\n",
       "        vertical-align: middle;\n",
       "    }\n",
       "\n",
       "    .dataframe tbody tr th {\n",
       "        vertical-align: top;\n",
       "    }\n",
       "\n",
       "    .dataframe thead th {\n",
       "        text-align: right;\n",
       "    }\n",
       "</style>\n",
       "<table border=\"1\" class=\"dataframe\">\n",
       "  <thead>\n",
       "    <tr style=\"text-align: right;\">\n",
       "      <th></th>\n",
       "      <th>PassengerId</th>\n",
       "      <th>Survived</th>\n",
       "      <th>Pclass</th>\n",
       "      <th>Name</th>\n",
       "      <th>Sex</th>\n",
       "      <th>Age</th>\n",
       "      <th>SibSp</th>\n",
       "      <th>Parch</th>\n",
       "      <th>Ticket</th>\n",
       "      <th>Fare</th>\n",
       "      <th>...</th>\n",
       "      <th>Unnamed: 16</th>\n",
       "      <th>Unnamed: 17</th>\n",
       "      <th>Unnamed: 18</th>\n",
       "      <th>Unnamed: 19</th>\n",
       "      <th>Unnamed: 20</th>\n",
       "      <th>Unnamed: 21</th>\n",
       "      <th>Unnamed: 22</th>\n",
       "      <th>Unnamed: 23</th>\n",
       "      <th>Unnamed: 24</th>\n",
       "      <th>Unnamed: 25</th>\n",
       "    </tr>\n",
       "  </thead>\n",
       "  <tbody>\n",
       "    <tr>\n",
       "      <th>0</th>\n",
       "      <td>1</td>\n",
       "      <td>0</td>\n",
       "      <td>3</td>\n",
       "      <td>Braund, Mr. Owen Harris</td>\n",
       "      <td>male</td>\n",
       "      <td>22.0</td>\n",
       "      <td>1</td>\n",
       "      <td>0</td>\n",
       "      <td>A/5 21171</td>\n",
       "      <td>7.2500</td>\n",
       "      <td>...</td>\n",
       "      <td>NaN</td>\n",
       "      <td>NaN</td>\n",
       "      <td>NaN</td>\n",
       "      <td>NaN</td>\n",
       "      <td>NaN</td>\n",
       "      <td>NaN</td>\n",
       "      <td>NaN</td>\n",
       "      <td>NaN</td>\n",
       "      <td>NaN</td>\n",
       "      <td>NaN</td>\n",
       "    </tr>\n",
       "    <tr>\n",
       "      <th>1</th>\n",
       "      <td>2</td>\n",
       "      <td>1</td>\n",
       "      <td>1</td>\n",
       "      <td>Cumings, Mrs. John Bradley (Florence Briggs Th...</td>\n",
       "      <td>female</td>\n",
       "      <td>38.0</td>\n",
       "      <td>1</td>\n",
       "      <td>0</td>\n",
       "      <td>PC 17599</td>\n",
       "      <td>71.2833</td>\n",
       "      <td>...</td>\n",
       "      <td>NaN</td>\n",
       "      <td>NaN</td>\n",
       "      <td>NaN</td>\n",
       "      <td>NaN</td>\n",
       "      <td>NaN</td>\n",
       "      <td>NaN</td>\n",
       "      <td>NaN</td>\n",
       "      <td>NaN</td>\n",
       "      <td>NaN</td>\n",
       "      <td>NaN</td>\n",
       "    </tr>\n",
       "    <tr>\n",
       "      <th>2</th>\n",
       "      <td>3</td>\n",
       "      <td>1</td>\n",
       "      <td>3</td>\n",
       "      <td>Heikkinen, Miss. Laina</td>\n",
       "      <td>female</td>\n",
       "      <td>26.0</td>\n",
       "      <td>0</td>\n",
       "      <td>0</td>\n",
       "      <td>STON/O2. 3101282</td>\n",
       "      <td>7.9250</td>\n",
       "      <td>...</td>\n",
       "      <td>NaN</td>\n",
       "      <td>NaN</td>\n",
       "      <td>NaN</td>\n",
       "      <td>NaN</td>\n",
       "      <td>NaN</td>\n",
       "      <td>NaN</td>\n",
       "      <td>NaN</td>\n",
       "      <td>NaN</td>\n",
       "      <td>NaN</td>\n",
       "      <td>NaN</td>\n",
       "    </tr>\n",
       "    <tr>\n",
       "      <th>3</th>\n",
       "      <td>4</td>\n",
       "      <td>1</td>\n",
       "      <td>1</td>\n",
       "      <td>Futrelle, Mrs. Jacques Heath (Lily May Peel)</td>\n",
       "      <td>female</td>\n",
       "      <td>35.0</td>\n",
       "      <td>1</td>\n",
       "      <td>0</td>\n",
       "      <td>113803</td>\n",
       "      <td>53.1000</td>\n",
       "      <td>...</td>\n",
       "      <td>NaN</td>\n",
       "      <td>NaN</td>\n",
       "      <td>NaN</td>\n",
       "      <td>NaN</td>\n",
       "      <td>NaN</td>\n",
       "      <td>NaN</td>\n",
       "      <td>NaN</td>\n",
       "      <td>NaN</td>\n",
       "      <td>NaN</td>\n",
       "      <td>NaN</td>\n",
       "    </tr>\n",
       "    <tr>\n",
       "      <th>4</th>\n",
       "      <td>5</td>\n",
       "      <td>0</td>\n",
       "      <td>3</td>\n",
       "      <td>Allen, Mr. William Henry</td>\n",
       "      <td>male</td>\n",
       "      <td>35.0</td>\n",
       "      <td>0</td>\n",
       "      <td>0</td>\n",
       "      <td>373450</td>\n",
       "      <td>8.0500</td>\n",
       "      <td>...</td>\n",
       "      <td>NaN</td>\n",
       "      <td>NaN</td>\n",
       "      <td>NaN</td>\n",
       "      <td>NaN</td>\n",
       "      <td>NaN</td>\n",
       "      <td>NaN</td>\n",
       "      <td>NaN</td>\n",
       "      <td>NaN</td>\n",
       "      <td>NaN</td>\n",
       "      <td>We</td>\n",
       "    </tr>\n",
       "  </tbody>\n",
       "</table>\n",
       "<p>5 rows × 26 columns</p>\n",
       "</div>"
      ]
     },
     "execution_count": 35,
     "metadata": {},
     "output_type": "execute_result"
    }
   ],
   "execution_count": 35
  },
  {
   "cell_type": "markdown",
   "id": "2b06a34f9f9acaa1",
   "metadata": {},
   "source": [
    "## Visualizar las columnas y su  tipo de dato"
   ]
  },
  {
   "cell_type": "code",
   "id": "15ce4656b9a2c6da",
   "metadata": {
    "ExecuteTime": {
     "end_time": "2025-01-04T15:40:02.770098Z",
     "start_time": "2025-01-04T15:40:01.682670Z"
    }
   },
   "source": [
    "dataframe.dtypes"
   ],
   "outputs": [
    {
     "data": {
      "text/plain": [
       "PassengerId      int64\n",
       "Survived         int64\n",
       "Pclass           int64\n",
       "Name            object\n",
       "Sex             object\n",
       "Age            float64\n",
       "SibSp            int64\n",
       "Parch            int64\n",
       "Ticket          object\n",
       "Fare           float64\n",
       "Cabin           object\n",
       "Embarked        object\n",
       "Unnamed: 12    float64\n",
       "Unnamed: 13    float64\n",
       "Unnamed: 14    float64\n",
       "Unnamed: 15    float64\n",
       "Unnamed: 16    float64\n",
       "Unnamed: 17    float64\n",
       "Unnamed: 18    float64\n",
       "Unnamed: 19    float64\n",
       "Unnamed: 20    float64\n",
       "Unnamed: 21    float64\n",
       "Unnamed: 22    float64\n",
       "Unnamed: 23    float64\n",
       "Unnamed: 24    float64\n",
       "Unnamed: 25     object\n",
       "dtype: object"
      ]
     },
     "execution_count": 36,
     "metadata": {},
     "output_type": "execute_result"
    }
   ],
   "execution_count": 36
  },
  {
   "cell_type": "markdown",
   "id": "60d2d5ea89ba9447",
   "metadata": {},
   "source": [
    "## Ahora eliminare las columnas que solo contienen NaN\n",
    "### Datos nulos "
   ]
  },
  {
   "cell_type": "code",
   "id": "ca06939be96d8db6",
   "metadata": {
    "ExecuteTime": {
     "end_time": "2025-01-04T15:40:04.165548Z",
     "start_time": "2025-01-04T15:40:02.944796Z"
    }
   },
   "source": [
    "to_drop = ['Unnamed: 12',\n",
    "           'Unnamed: 13',\n",
    "           'Unnamed: 14',\n",
    "           'Unnamed: 15',\n",
    "           'Unnamed: 16',\n",
    "           'Unnamed: 17',\n",
    "           'Unnamed: 18',\n",
    "           'Unnamed: 19',\n",
    "           'Unnamed: 20',\n",
    "           'Unnamed: 21',\n",
    "           'Unnamed: 22',\n",
    "           'Unnamed: 23',\n",
    "           'Unnamed: 24',\n",
    "           'Unnamed: 25']\n",
    "\n",
    "dataframe.drop(columns=to_drop, inplace=True, axis=1)"
   ],
   "outputs": [],
   "execution_count": 37
  },
  {
   "cell_type": "code",
   "id": "208809748e28bf95",
   "metadata": {
    "ExecuteTime": {
     "end_time": "2025-01-04T15:40:04.666563Z",
     "start_time": "2025-01-04T15:40:04.221550Z"
    }
   },
   "source": "dataframe.head()",
   "outputs": [
    {
     "data": {
      "text/plain": [
       "   PassengerId  Survived  Pclass  \\\n",
       "0            1         0       3   \n",
       "1            2         1       1   \n",
       "2            3         1       3   \n",
       "3            4         1       1   \n",
       "4            5         0       3   \n",
       "\n",
       "                                                Name     Sex   Age  SibSp  \\\n",
       "0                            Braund, Mr. Owen Harris    male  22.0      1   \n",
       "1  Cumings, Mrs. John Bradley (Florence Briggs Th...  female  38.0      1   \n",
       "2                             Heikkinen, Miss. Laina  female  26.0      0   \n",
       "3       Futrelle, Mrs. Jacques Heath (Lily May Peel)  female  35.0      1   \n",
       "4                           Allen, Mr. William Henry    male  35.0      0   \n",
       "\n",
       "   Parch            Ticket     Fare Cabin Embarked  \n",
       "0      0         A/5 21171   7.2500   NaN        S  \n",
       "1      0          PC 17599  71.2833   C85        C  \n",
       "2      0  STON/O2. 3101282   7.9250   NaN        S  \n",
       "3      0            113803  53.1000  C123        S  \n",
       "4      0            373450   8.0500   NaN        S  "
      ],
      "text/html": [
       "<div>\n",
       "<style scoped>\n",
       "    .dataframe tbody tr th:only-of-type {\n",
       "        vertical-align: middle;\n",
       "    }\n",
       "\n",
       "    .dataframe tbody tr th {\n",
       "        vertical-align: top;\n",
       "    }\n",
       "\n",
       "    .dataframe thead th {\n",
       "        text-align: right;\n",
       "    }\n",
       "</style>\n",
       "<table border=\"1\" class=\"dataframe\">\n",
       "  <thead>\n",
       "    <tr style=\"text-align: right;\">\n",
       "      <th></th>\n",
       "      <th>PassengerId</th>\n",
       "      <th>Survived</th>\n",
       "      <th>Pclass</th>\n",
       "      <th>Name</th>\n",
       "      <th>Sex</th>\n",
       "      <th>Age</th>\n",
       "      <th>SibSp</th>\n",
       "      <th>Parch</th>\n",
       "      <th>Ticket</th>\n",
       "      <th>Fare</th>\n",
       "      <th>Cabin</th>\n",
       "      <th>Embarked</th>\n",
       "    </tr>\n",
       "  </thead>\n",
       "  <tbody>\n",
       "    <tr>\n",
       "      <th>0</th>\n",
       "      <td>1</td>\n",
       "      <td>0</td>\n",
       "      <td>3</td>\n",
       "      <td>Braund, Mr. Owen Harris</td>\n",
       "      <td>male</td>\n",
       "      <td>22.0</td>\n",
       "      <td>1</td>\n",
       "      <td>0</td>\n",
       "      <td>A/5 21171</td>\n",
       "      <td>7.2500</td>\n",
       "      <td>NaN</td>\n",
       "      <td>S</td>\n",
       "    </tr>\n",
       "    <tr>\n",
       "      <th>1</th>\n",
       "      <td>2</td>\n",
       "      <td>1</td>\n",
       "      <td>1</td>\n",
       "      <td>Cumings, Mrs. John Bradley (Florence Briggs Th...</td>\n",
       "      <td>female</td>\n",
       "      <td>38.0</td>\n",
       "      <td>1</td>\n",
       "      <td>0</td>\n",
       "      <td>PC 17599</td>\n",
       "      <td>71.2833</td>\n",
       "      <td>C85</td>\n",
       "      <td>C</td>\n",
       "    </tr>\n",
       "    <tr>\n",
       "      <th>2</th>\n",
       "      <td>3</td>\n",
       "      <td>1</td>\n",
       "      <td>3</td>\n",
       "      <td>Heikkinen, Miss. Laina</td>\n",
       "      <td>female</td>\n",
       "      <td>26.0</td>\n",
       "      <td>0</td>\n",
       "      <td>0</td>\n",
       "      <td>STON/O2. 3101282</td>\n",
       "      <td>7.9250</td>\n",
       "      <td>NaN</td>\n",
       "      <td>S</td>\n",
       "    </tr>\n",
       "    <tr>\n",
       "      <th>3</th>\n",
       "      <td>4</td>\n",
       "      <td>1</td>\n",
       "      <td>1</td>\n",
       "      <td>Futrelle, Mrs. Jacques Heath (Lily May Peel)</td>\n",
       "      <td>female</td>\n",
       "      <td>35.0</td>\n",
       "      <td>1</td>\n",
       "      <td>0</td>\n",
       "      <td>113803</td>\n",
       "      <td>53.1000</td>\n",
       "      <td>C123</td>\n",
       "      <td>S</td>\n",
       "    </tr>\n",
       "    <tr>\n",
       "      <th>4</th>\n",
       "      <td>5</td>\n",
       "      <td>0</td>\n",
       "      <td>3</td>\n",
       "      <td>Allen, Mr. William Henry</td>\n",
       "      <td>male</td>\n",
       "      <td>35.0</td>\n",
       "      <td>0</td>\n",
       "      <td>0</td>\n",
       "      <td>373450</td>\n",
       "      <td>8.0500</td>\n",
       "      <td>NaN</td>\n",
       "      <td>S</td>\n",
       "    </tr>\n",
       "  </tbody>\n",
       "</table>\n",
       "</div>"
      ]
     },
     "execution_count": 38,
     "metadata": {},
     "output_type": "execute_result"
    }
   ],
   "execution_count": 38
  },
  {
   "cell_type": "markdown",
   "id": "70ed0436fb5d94d3",
   "metadata": {},
   "source": [
    "## Valores faltantes\n",
    "Los reemplace con la media ya que cada registro pertenece a una unica persona y elininar las filas con datos faltantes eliminaria datos de sobrevivientes"
   ]
  },
  {
   "cell_type": "code",
   "id": "48e548cee0e3bdd4",
   "metadata": {
    "ExecuteTime": {
     "end_time": "2025-01-05T01:58:38.572210Z",
     "start_time": "2025-01-05T01:58:36.182173Z"
    }
   },
   "source": "dataframe.isna().sum()",
   "outputs": [
    {
     "data": {
      "text/plain": [
       "PassengerId          0\n",
       "Survived             0\n",
       "Pclass               0\n",
       "Name                 0\n",
       "Sex                  0\n",
       "Age                  0\n",
       "SibSp                0\n",
       "Parch                0\n",
       "Ticket               0\n",
       "Fare                 0\n",
       "Cabin              687\n",
       "Embarked             2\n",
       "Valores_Limpios      0\n",
       "dtype: int64"
      ]
     },
     "execution_count": 64,
     "metadata": {},
     "output_type": "execute_result"
    }
   ],
   "execution_count": 64
  },
  {
   "metadata": {
    "ExecuteTime": {
     "end_time": "2025-01-04T15:40:06.148107Z",
     "start_time": "2025-01-04T15:40:05.360234Z"
    }
   },
   "cell_type": "code",
   "source": "dataframe['Age'] = dataframe[\"Age\"].fillna(dataframe[\"Age\"].mean())",
   "id": "cd76939ec7cdc0a",
   "outputs": [],
   "execution_count": 40
  },
  {
   "metadata": {
    "ExecuteTime": {
     "end_time": "2025-01-04T15:40:06.394677Z",
     "start_time": "2025-01-04T15:40:06.148107Z"
    }
   },
   "cell_type": "code",
   "source": [
    "dataframe['Valores_Limpios'] = (dataframe['Age'].astype(str).str.replace(r\"[,\\s]\", \"\", regex=True).replace(\"\", None).astype(float))\n",
    "dataframe.Valores_Limpios"
   ],
   "id": "92be504675adbf1b",
   "outputs": [
    {
     "data": {
      "text/plain": [
       "0      22.000000\n",
       "1      38.000000\n",
       "2      26.000000\n",
       "3      35.000000\n",
       "4      35.000000\n",
       "         ...    \n",
       "886    27.000000\n",
       "887    19.000000\n",
       "888    29.699118\n",
       "889    26.000000\n",
       "890    32.000000\n",
       "Name: Valores_Limpios, Length: 891, dtype: float64"
      ]
     },
     "execution_count": 41,
     "metadata": {},
     "output_type": "execute_result"
    }
   ],
   "execution_count": 41
  },
  {
   "metadata": {},
   "cell_type": "markdown",
   "source": [
    "## Tablas de frecuencias\n",
    "Reemplazo los valores NaN por la media ya que estos no se pueden eliminar porque corresponden a un unico sobreviviente del naufragio, luego creo la tabla de frecuencias entre la edad y el sexo agrupando los datos en intervalos y ordenandolos de forma acendente\n",
    "\n",
    "Nunca voy a olvidarte - Kaleth Morales\n",
    "\n",
    "#### tabla de contingencia (frecuencias) de los sobrevivientes vs sexo"
   ],
   "id": "a08f833ca6e4caec"
  },
  {
   "metadata": {
    "ExecuteTime": {
     "end_time": "2025-01-05T02:02:07.967663Z",
     "start_time": "2025-01-05T02:02:05.127576Z"
    }
   },
   "cell_type": "code",
   "source": [
    "N = len(dataframe.Age)  \n",
    "k = int(1 + np.log2(N))  \n",
    "\n",
    "intervalos = pd.cut(dataframe[\"Age\"], bins=k, include_lowest=True)\n",
    "pd.crosstab(intervalos, dataframe.Sex)"
   ],
   "id": "7f2fbd7e780f092d",
   "outputs": [
    {
     "data": {
      "text/plain": [
       "Sex               female  male\n",
       "Age                           \n",
       "(0.339, 8.378]        26    28\n",
       "(8.378, 16.336]       23    23\n",
       "(16.336, 24.294]      68   109\n",
       "(24.294, 32.252]     105   241\n",
       "(32.252, 40.21]       44    74\n",
       "(40.21, 48.168]       24    46\n",
       "(48.168, 56.126]      16    29\n",
       "(56.126, 64.084]       8    16\n",
       "(64.084, 72.042]       0     9\n",
       "(72.042, 80.0]         0     2"
      ],
      "text/html": [
       "<div>\n",
       "<style scoped>\n",
       "    .dataframe tbody tr th:only-of-type {\n",
       "        vertical-align: middle;\n",
       "    }\n",
       "\n",
       "    .dataframe tbody tr th {\n",
       "        vertical-align: top;\n",
       "    }\n",
       "\n",
       "    .dataframe thead th {\n",
       "        text-align: right;\n",
       "    }\n",
       "</style>\n",
       "<table border=\"1\" class=\"dataframe\">\n",
       "  <thead>\n",
       "    <tr style=\"text-align: right;\">\n",
       "      <th>Sex</th>\n",
       "      <th>female</th>\n",
       "      <th>male</th>\n",
       "    </tr>\n",
       "    <tr>\n",
       "      <th>Age</th>\n",
       "      <th></th>\n",
       "      <th></th>\n",
       "    </tr>\n",
       "  </thead>\n",
       "  <tbody>\n",
       "    <tr>\n",
       "      <th>(0.339, 8.378]</th>\n",
       "      <td>26</td>\n",
       "      <td>28</td>\n",
       "    </tr>\n",
       "    <tr>\n",
       "      <th>(8.378, 16.336]</th>\n",
       "      <td>23</td>\n",
       "      <td>23</td>\n",
       "    </tr>\n",
       "    <tr>\n",
       "      <th>(16.336, 24.294]</th>\n",
       "      <td>68</td>\n",
       "      <td>109</td>\n",
       "    </tr>\n",
       "    <tr>\n",
       "      <th>(24.294, 32.252]</th>\n",
       "      <td>105</td>\n",
       "      <td>241</td>\n",
       "    </tr>\n",
       "    <tr>\n",
       "      <th>(32.252, 40.21]</th>\n",
       "      <td>44</td>\n",
       "      <td>74</td>\n",
       "    </tr>\n",
       "    <tr>\n",
       "      <th>(40.21, 48.168]</th>\n",
       "      <td>24</td>\n",
       "      <td>46</td>\n",
       "    </tr>\n",
       "    <tr>\n",
       "      <th>(48.168, 56.126]</th>\n",
       "      <td>16</td>\n",
       "      <td>29</td>\n",
       "    </tr>\n",
       "    <tr>\n",
       "      <th>(56.126, 64.084]</th>\n",
       "      <td>8</td>\n",
       "      <td>16</td>\n",
       "    </tr>\n",
       "    <tr>\n",
       "      <th>(64.084, 72.042]</th>\n",
       "      <td>0</td>\n",
       "      <td>9</td>\n",
       "    </tr>\n",
       "    <tr>\n",
       "      <th>(72.042, 80.0]</th>\n",
       "      <td>0</td>\n",
       "      <td>2</td>\n",
       "    </tr>\n",
       "  </tbody>\n",
       "</table>\n",
       "</div>"
      ]
     },
     "execution_count": 65,
     "metadata": {},
     "output_type": "execute_result"
    }
   ],
   "execution_count": 65
  },
  {
   "metadata": {},
   "cell_type": "markdown",
   "source": "## Distribuciones de Datos",
   "id": "71691fc9c9d2a7f5"
  },
  {
   "cell_type": "markdown",
   "id": "dc6e5c2354fc3ac7",
   "metadata": {},
   "source": "## Datos Categoricos\n"
  },
  {
   "metadata": {
    "ExecuteTime": {
     "end_time": "2025-01-04T15:40:10.614636Z",
     "start_time": "2025-01-04T15:40:09.505053Z"
    }
   },
   "cell_type": "code",
   "source": [
    "recuento = dataframe.groupby('Pclass')['Survived'].count()\n",
    "recuento"
   ],
   "id": "451ad24aca172fa3",
   "outputs": [
    {
     "data": {
      "text/plain": [
       "Pclass\n",
       "1    216\n",
       "2    184\n",
       "3    491\n",
       "Name: Survived, dtype: int64"
      ]
     },
     "execution_count": 43,
     "metadata": {},
     "output_type": "execute_result"
    }
   ],
   "execution_count": 43
  },
  {
   "metadata": {
    "ExecuteTime": {
     "end_time": "2025-01-04T20:05:11.445717Z",
     "start_time": "2025-01-04T20:04:55.190798Z"
    }
   },
   "cell_type": "code",
   "source": [
    "gender = dataframe['Sex'].value_counts()\n",
    "plt.figure(figsize=(7, 6))\n",
    "ax = gender.plot(kind='bar', rot=0, color=\"c\")\n",
    "ax.set_title(\"Bar Graph of Gender\", y = 1)\n",
    "ax.set_xlabel('Gender')\n",
    "ax.set_ylabel('Number of People')\n",
    "ax.set_xticklabels(('Male', 'Female'))\n",
    "plt.show()"
   ],
   "id": "a506e7ea11450dad",
   "outputs": [
    {
     "data": {
      "text/plain": [
       "<Figure size 700x600 with 1 Axes>"
      ],
      "image/png": "[encoded data removed]"
     },
     "metadata": {},
     "output_type": "display_data"
    }
   ],
   "execution_count": 63
  },
  {
   "metadata": {
    "ExecuteTime": {
     "end_time": "2025-01-05T02:04:54.506687Z",
     "start_time": "2025-01-05T02:04:53.783739Z"
    }
   },
   "cell_type": "code",
   "source": [
    "fig, ax = plt.subplots()\n",
    "dataframe.Age.plot(kind='hist', x = 'Sex', y = 'Age')\n",
    "#ax.hist(dataframe.Age, dataframe.Sex)\n",
    "plt.show()"
   ],
   "id": "d70af24fea328031",
   "outputs": [
    {
     "data": {
      "text/plain": [
       "<Figure size 640x480 with 1 Axes>"
      ],
      "image/png": "[encoded data removed]"
     },
     "metadata": {},
     "output_type": "display_data"
    }
   ],
   "execution_count": 67
  },
  {
   "metadata": {
    "jupyter": {
     "is_executing": true
    },
    "ExecuteTime": {
     "start_time": "2025-01-05T02:07:21.934810Z"
    }
   },
   "cell_type": "code",
   "source": [
    "cols = ['Survived', 'Pclass', 'Sex', 'Age', 'SibSp', 'Parch', 'Ticket', 'Fare']\n",
    "sns.set()\n",
    "sns.pairplot(dataframe[cols])"
   ],
   "id": "8100d7212eb5405c",
   "outputs": [
    {
     "data": {
      "text/plain": [
       "<seaborn.axisgrid.PairGrid at 0x16eaa032a80>"
      ]
     },
     "execution_count": 68,
     "metadata": {},
     "output_type": "execute_result"
    }
   ],
   "execution_count": null
  },
  {
   "cell_type": "markdown",
   "id": "ff27d58e5ff2e03b",
   "metadata": {},
   "source": [
    "## Registros mal formados - Valores atipicos\n",
    "\n",
    "Se trataron al corregir los datos de la edad"
   ]
  }
 ],
 "metadata": {
  "kernelspec": {
   "display_name": "Python 3 (ipykernel)",
   "language": "python",
   "name": "python3"
  },
  "language_info": {
   "codemirror_mode": {
    "name": "ipython",
    "version": 3
   },
   "file_extension": ".py",
   "mimetype": "text/x-python",
   "name": "python",
   "nbconvert_exporter": "python",
   "pygments_lexer": "ipython3",
   "version": "3.12.2"
  }
 },
 "nbformat": 4,
 "nbformat_minor": 5
}

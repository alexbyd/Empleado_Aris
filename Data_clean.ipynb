{
 "cells": [
  {
   "cell_type": "markdown",
   "id": "a49c189dd563a8e7",
   "metadata": {},
   "source": [
    "# Limpieza del archivo exel con los datos del titanic:\n",
    "\n",
    "- 1) explorar columnas: visualizar las columnas, tipo de dato, si contienen datos nulos, registros mal formados, valores atipicos o sin sentido, valores faltantes\n",
    "\n",
    "- 2) datos desordenados,\n",
    " \n",
    "- 3) eliminar columnas con datos no relevantes\n",
    "\n",
    "\n"
   ]
  },
  {
   "cell_type": "code",
   "id": "2cf5fc2414a4b77e",
   "metadata": {
    "ExecuteTime": {
     "end_time": "2024-10-17T02:49:58.158267Z",
     "start_time": "2024-10-17T02:49:57.889988Z"
    }
   },
   "source": [
    "import pandas as pd\n",
    "import seaborn as sns\n",
    "import numpy as np\n",
    "import matplotlib.pyplot as plt\n",
    "from progressbar import progressbar as pbar\n",
    "from local.lib import mlutils\n",
    "%matplotlib inline\n",
    "\n",
    "# Analizar que librerias necesito y eliminar el resto de importaciones commit [main 8fb097c]\n",
    "\n",
    "dataframe = pd.read_excel('Titanic.xlsx')\n",
    "\n",
    "dataframe.head()\n"
   ],
   "outputs": [
    {
     "ename": "ModuleNotFoundError",
     "evalue": "No module named 'seaborn'",
     "output_type": "error",
     "traceback": [
      "\u001B[1;31m---------------------------------------------------------------------------\u001B[0m",
      "\u001B[1;31mModuleNotFoundError\u001B[0m                       Traceback (most recent call last)",
      "Cell \u001B[1;32mIn[2], line 2\u001B[0m\n\u001B[0;32m      1\u001B[0m \u001B[38;5;28;01mimport\u001B[39;00m \u001B[38;5;21;01mpandas\u001B[39;00m \u001B[38;5;28;01mas\u001B[39;00m \u001B[38;5;21;01mpd\u001B[39;00m\n\u001B[1;32m----> 2\u001B[0m \u001B[38;5;28;01mimport\u001B[39;00m \u001B[38;5;21;01mseaborn\u001B[39;00m \u001B[38;5;28;01mas\u001B[39;00m \u001B[38;5;21;01msns\u001B[39;00m\n\u001B[0;32m      3\u001B[0m \u001B[38;5;28;01mimport\u001B[39;00m \u001B[38;5;21;01mnumpy\u001B[39;00m \u001B[38;5;28;01mas\u001B[39;00m \u001B[38;5;21;01mnp\u001B[39;00m\n\u001B[0;32m      4\u001B[0m \u001B[38;5;28;01mimport\u001B[39;00m \u001B[38;5;21;01mmatplotlib\u001B[39;00m\u001B[38;5;21;01m.\u001B[39;00m\u001B[38;5;21;01mpyplot\u001B[39;00m \u001B[38;5;28;01mas\u001B[39;00m \u001B[38;5;21;01mplt\u001B[39;00m\n",
      "\u001B[1;31mModuleNotFoundError\u001B[0m: No module named 'seaborn'"
     ]
    }
   ],
   "execution_count": 2
  },
  {
   "cell_type": "markdown",
   "id": "2b06a34f9f9acaa1",
   "metadata": {},
   "source": [
    "## Visualizar las columnas y su  tipo de dato"
   ]
  },
  {
   "cell_type": "code",
   "id": "15ce4656b9a2c6da",
   "metadata": {
    "ExecuteTime": {
     "end_time": "2024-10-17T02:49:31.760763Z",
     "start_time": "2024-10-17T02:49:31.748763Z"
    }
   },
   "source": [
    "dataframe.dtypes"
   ],
   "outputs": [],
   "execution_count": null
  },
  {
   "cell_type": "markdown",
   "id": "60d2d5ea89ba9447",
   "metadata": {},
   "source": [
    "## Ahora eliminare las columnas que solo contienen NaN\n"
   ]
  },
  {
   "cell_type": "markdown",
   "id": "7bdc4c90d9fe335a",
   "metadata": {},
   "source": [
    "## Datos nulos "
   ]
  },
  {
   "cell_type": "code",
   "id": "ca06939be96d8db6",
   "metadata": {
    "ExecuteTime": {
     "end_time": "2024-10-17T02:49:32.126763Z",
     "start_time": "2024-10-17T02:49:32.060763Z"
    }
   },
   "source": [
    "to_drop = ['Unnamed: 12',\n",
    "           'Unnamed: 13',\n",
    "           'Unnamed: 14',\n",
    "           'Unnamed: 15',\n",
    "           'Unnamed: 16',\n",
    "           'Unnamed: 17',\n",
    "           'Unnamed: 18',\n",
    "           'Unnamed: 19',\n",
    "           'Unnamed: 20',\n",
    "           'Unnamed: 21',\n",
    "           'Unnamed: 22',\n",
    "           'Unnamed: 23',\n",
    "           'Unnamed: 24',\n",
    "           'Unnamed: 25']\n",
    "\n",
    "dataframe.drop(columns=to_drop, inplace=True, axis=1)"
   ],
   "outputs": [],
   "execution_count": null
  },
  {
   "cell_type": "code",
   "id": "208809748e28bf95",
   "metadata": {
    "ExecuteTime": {
     "end_time": "2024-10-17T02:49:32.487764Z",
     "start_time": "2024-10-17T02:49:32.155765Z"
    }
   },
   "source": [
    "dataframe.head()"
   ],
   "outputs": [],
   "execution_count": null
  },
  {
   "cell_type": "markdown",
   "id": "70ed0436fb5d94d3",
   "metadata": {},
   "source": [
    "## Valores faltantes"
   ]
  },
  {
   "cell_type": "code",
   "id": "48e548cee0e3bdd4",
   "metadata": {
    "ExecuteTime": {
     "end_time": "2024-10-17T02:49:32.679764Z",
     "start_time": "2024-10-17T02:49:32.658762Z"
    }
   },
   "source": [
    "dataframe.isna().sum()"
   ],
   "outputs": [],
   "execution_count": null
  },
  {
   "cell_type": "markdown",
   "id": "71691fc9c9d2a7f5",
   "metadata": {},
   "source": []
  },
  {
   "cell_type": "markdown",
   "id": "dc6e5c2354fc3ac7",
   "metadata": {},
   "source": [
    "Ahora tenemos en cuenta el motivo por el cual tenemos las columnas que conservamos, para que queremos esos datos, etc..."
   ]
  },
  {
   "cell_type": "markdown",
   "id": "ff27d58e5ff2e03b",
   "metadata": {},
   "source": [
    "## Registros mal formados - Valores atipicos\n",
    "No se observan"
   ]
  },
  {
   "cell_type": "markdown",
   "id": "5e88bbf6c5ea6319",
   "metadata": {},
   "source": [
    "La edad es un tipo de dato continuo, el sexo es de tipo categorico, la columna Pclass es de tipo categorico\n",
    "intonces vamos a visualizar los datos con plots"
   ]
  }
 ],
 "metadata": {
  "kernelspec": {
   "display_name": "Python 3 (ipykernel)",
   "language": "python",
   "name": "python3"
  },
  "language_info": {
   "codemirror_mode": {
    "name": "ipython",
    "version": 3
   },
   "file_extension": ".py",
   "mimetype": "text/x-python",
   "name": "python",
   "nbconvert_exporter": "python",
   "pygments_lexer": "ipython3",
   "version": "3.12.2"
  }
 },
 "nbformat": 4,
 "nbformat_minor": 5
}
